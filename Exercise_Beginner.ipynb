{
  "nbformat": 4,
  "nbformat_minor": 0,
  "metadata": {
    "colab": {
      "name": "Exercise_Beginner.ipynb",
      "provenance": [],
      "collapsed_sections": [],
      "authorship_tag": "ABX9TyNuJhjlvwbdEsX2vgY78mho",
      "include_colab_link": true
    },
    "kernelspec": {
      "name": "python3",
      "display_name": "Python 3"
    },
    "language_info": {
      "name": "python"
    }
  },
  "cells": [
    {
      "cell_type": "markdown",
      "metadata": {
        "id": "view-in-github",
        "colab_type": "text"
      },
      "source": [
        "<a href=\"https://colab.research.google.com/github/zhemnic/Learning-Repo/blob/master/Exercise_Beginner.ipynb\" target=\"_parent\"><img src=\"https://colab.research.google.com/assets/colab-badge.svg\" alt=\"Open In Colab\"/></a>"
      ]
    },
    {
      "cell_type": "code",
      "execution_count": null,
      "metadata": {
        "colab": {
          "base_uri": "https://localhost:8080/"
        },
        "id": "7OTWeghD3ktY",
        "outputId": "74ad655a-d579-49dc-b538-ecbee62f48c7"
      },
      "outputs": [
        {
          "output_type": "stream",
          "name": "stdout",
          "text": [
            "Learn Python!\n"
          ]
        }
      ],
      "source": [
        "## Question 1\n",
        "\n",
        "print('Learn Python!')"
      ]
    },
    {
      "cell_type": "code",
      "source": [
        "## Question 2\n",
        "\n",
        "age = 20\n",
        "print(f'I am {age} years old.')"
      ],
      "metadata": {
        "colab": {
          "base_uri": "https://localhost:8080/"
        },
        "id": "tijPT17A38r4",
        "outputId": "feefcb4a-ab30-4fa1-eace-63e5f6a1e2a4"
      },
      "execution_count": null,
      "outputs": [
        {
          "output_type": "stream",
          "name": "stdout",
          "text": [
            "I am 20 years old.\n"
          ]
        }
      ]
    },
    {
      "cell_type": "code",
      "source": [
        "## Question 3\n",
        "my_language = 'Python'\n",
        "my_version = '3.8'\n",
        "\n",
        "print(f'I am learning {my_language} version {my_version}')"
      ],
      "metadata": {
        "colab": {
          "base_uri": "https://localhost:8080/"
        },
        "id": "LZlvhA4b4Fbe",
        "outputId": "bdea2e54-53bf-45e9-dbc5-30e35c41adf0"
      },
      "execution_count": null,
      "outputs": [
        {
          "output_type": "stream",
          "name": "stdout",
          "text": [
            "I am learning Python version 3.8\n"
          ]
        }
      ]
    },
    {
      "cell_type": "code",
      "source": [
        "## Question 4\n",
        "price = 199.99\n",
        "print('This costs',price)"
      ],
      "metadata": {
        "colab": {
          "base_uri": "https://localhost:8080/"
        },
        "id": "B8WX3LyY4wur",
        "outputId": "f3de33a4-9838-4d0b-d9b1-02a0e01dfb54"
      },
      "execution_count": null,
      "outputs": [
        {
          "output_type": "stream",
          "name": "stdout",
          "text": [
            "This costs 199.99\n"
          ]
        }
      ]
    },
    {
      "cell_type": "code",
      "source": [
        "## Question 5\n",
        "price = 69.99\n",
        "print(f'This costs {price}')"
      ],
      "metadata": {
        "colab": {
          "base_uri": "https://localhost:8080/"
        },
        "id": "ODgi_TU75Dpq",
        "outputId": "9ea7e066-d3ae-413b-b26d-d55a00147a15"
      },
      "execution_count": null,
      "outputs": [
        {
          "output_type": "stream",
          "name": "stdout",
          "text": [
            "This costs 69.99\n"
          ]
        }
      ]
    },
    {
      "cell_type": "code",
      "source": [
        "## Question 6\n",
        "product_price = 34.99\n",
        "product_weight = 20\n",
        "\n",
        "print(f'Price: ${product_price}. Weight: {product_weight} lbs.')"
      ],
      "metadata": {
        "colab": {
          "base_uri": "https://localhost:8080/"
        },
        "id": "2vJ9IuRN5Y8m",
        "outputId": "743c75c4-a03d-4eaa-db2e-e6d81eb45ea8"
      },
      "execution_count": null,
      "outputs": [
        {
          "output_type": "stream",
          "name": "stdout",
          "text": [
            "Price: $34.99. Weight: 20 lbs.\n"
          ]
        }
      ]
    },
    {
      "cell_type": "code",
      "source": [
        "## Question 7\n",
        "\n",
        "pi = 3.1415926535\n",
        "print(f\"Pi: {pi:.2f}\")"
      ],
      "metadata": {
        "colab": {
          "base_uri": "https://localhost:8080/"
        },
        "id": "Mn8FQe7_6Hyd",
        "outputId": "0de9ff07-15a3-4931-92e9-8ab5cb6810f4"
      },
      "execution_count": null,
      "outputs": [
        {
          "output_type": "stream",
          "name": "stdout",
          "text": [
            "Pi: 3.14\n"
          ]
        }
      ]
    },
    {
      "cell_type": "code",
      "source": [
        "## Question 8\n",
        "\n",
        "dashes = '----------------------------------------'\n",
        "version = 'VERSION: 1.0.1'\n",
        "# len(dashes)\n",
        "\n",
        "print(dashes)\n",
        "print(version)\n",
        "print(dashes)\n"
      ],
      "metadata": {
        "colab": {
          "base_uri": "https://localhost:8080/"
        },
        "id": "FvUsm1uS82YJ",
        "outputId": "9cd0c0a8-223b-41d1-9c8d-ee5f915d3e0f"
      },
      "execution_count": null,
      "outputs": [
        {
          "output_type": "stream",
          "name": "stdout",
          "text": [
            "----------------------------------------\n",
            "VERSION: 1.0.1\n",
            "----------------------------------------\n"
          ]
        }
      ]
    },
    {
      "cell_type": "code",
      "source": [
        "## Question 9\n",
        "\n",
        "line1 = 'author: johnsmith@sample.com'\n",
        "line2 = 'date: 01-01-2021'\n",
        "\n",
        "print('='*40)\n",
        "print('author: johnsmith@sample.com')\n",
        "print('date: 01-01-2021')\n",
        "print('='*40)\n"
      ],
      "metadata": {
        "colab": {
          "base_uri": "https://localhost:8080/"
        },
        "id": "IsLUxodR915f",
        "outputId": "91bd31ee-9056-447f-aebc-f8ed229ab489"
      },
      "execution_count": null,
      "outputs": [
        {
          "output_type": "stream",
          "name": "stdout",
          "text": [
            "========================================\n",
            "author: johnsmith@sample.com\n",
            "date: 01-01-2021\n",
            "========================================\n"
          ]
        }
      ]
    },
    {
      "cell_type": "code",
      "source": [
        "## Question 10\n",
        "\n",
        "print('\\'summer', 'time','holiday\\'',sep='#')"
      ],
      "metadata": {
        "colab": {
          "base_uri": "https://localhost:8080/"
        },
        "id": "Y-WI2TD0-2VO",
        "outputId": "5ec60e38-95f5-4bec-a74b-8c0024759654"
      },
      "execution_count": null,
      "outputs": [
        {
          "output_type": "stream",
          "name": "stdout",
          "text": [
            "'summer#time#holiday'\n"
          ]
        }
      ]
    },
    {
      "cell_type": "code",
      "source": [
        "## Question 11\n",
        "\n",
        "pi = 3.14\n",
        "radius = 5\n",
        "area = (pi)*(radius**2)\n",
        "print(f'Area: {area}')"
      ],
      "metadata": {
        "colab": {
          "base_uri": "https://localhost:8080/"
        },
        "id": "b8UMxbIGAXKR",
        "outputId": "1e8ca4e8-bf09-4808-a1dd-15399eb0286b"
      },
      "execution_count": null,
      "outputs": [
        {
          "output_type": "stream",
          "name": "stdout",
          "text": [
            "Area: 78.5\n"
          ]
        }
      ]
    },
    {
      "cell_type": "code",
      "source": [
        "area"
      ],
      "metadata": {
        "colab": {
          "base_uri": "https://localhost:8080/"
        },
        "id": "zlQQKzTeA823",
        "outputId": "d9e78c94-3d21-47e8-cb61-8f08208cddd9"
      },
      "execution_count": null,
      "outputs": [
        {
          "output_type": "execute_result",
          "data": {
            "text/plain": [
              "78.5"
            ]
          },
          "metadata": {},
          "execution_count": 16
        }
      ]
    },
    {
      "cell_type": "code",
      "source": [
        "## Question 12\n",
        "'''\n",
        "\n",
        "Simple Interest Formula: A = P (1 + rt)\n",
        "***********************\n",
        "\n",
        "  A\t=\tfinal amount\n",
        "  P\t=\tinitial principal balance\n",
        "  r\t=\tannual interest rate\n",
        "  t\t=\ttime (in years\n",
        "  \n",
        "Compound Interest Formula: A = P(1 + \\frac{r}{n})^{nt}\n",
        "\n",
        "  A\t=\tfinal amount\n",
        "  P\t=\tinitial principal balance\n",
        "  r\t=\tinterest rate\n",
        "  n\t=\tnumber of times interest applied per time period e.g. (1 - yearly | 12 - monthly | 54 - weekly)\n",
        "  t\t=\tnumber of time periods elapsed\n",
        "\n",
        "'''\n",
        "\n",
        "# answer: 1159.27\n",
        "\n",
        "P = 1000\n",
        "r = 3/100\n",
        "n = 1\n",
        "t = 5\n",
        "\n",
        "A = P * (1+(r/n))**(n*t)\n",
        "\n",
        "print(\"The future value of the investment:\", round(A,2), \"USD\")\n"
      ],
      "metadata": {
        "colab": {
          "base_uri": "https://localhost:8080/"
        },
        "id": "tGdvnJ99A9hc",
        "outputId": "0e55f0ca-3bc2-4d24-cf06-2dae9e183ea2"
      },
      "execution_count": null,
      "outputs": [
        {
          "output_type": "stream",
          "name": "stdout",
          "text": [
            "The future value of the investment: 1159.27 USD\n"
          ]
        }
      ]
    },
    {
      "cell_type": "code",
      "source": [
        "# import the math module \n",
        "import math \n",
        "\n",
        "## Question 13\n",
        "\n",
        "# 3x^2 -4x + 1 = 0\n",
        "\n",
        "'''\n",
        "# calculate the discriminant  \n",
        "d = (b**2) - (4*a*c)  \n",
        "  \n",
        "# find two solutions  \n",
        "sol1 = (-b-cmath.sqrt(d))/(2*a)  \n",
        "sol2 = (-b+cmath.sqrt(d))/(2*a)  \n",
        "\n",
        "'''\n",
        "\n",
        "a = 3\n",
        "b = -4\n",
        "c = 1\n",
        "\n",
        "d = (b**2) - (4*a*c)            # (16 - 12) = 4\n",
        "                                # Delta = b^2 -4ac\n",
        "\n",
        "# sol1 = (-b-math.sqrt(d))/(2*a)  # (-4-2)/6 -> -1 \n",
        "# sol2 = (-b+math.sqrt(d))/(2*a)  # (-4+2)/6 -> 1/3 \n",
        "\n",
        "delta = (b**2) - (4*a*c)\n",
        "print(f\"Delta: {delta}\")\n"
      ],
      "metadata": {
        "colab": {
          "base_uri": "https://localhost:8080/"
        },
        "id": "dns07vRpEVC_",
        "outputId": "b7e330b3-9f16-4cfc-8c1f-f51c4e4bade0"
      },
      "execution_count": null,
      "outputs": [
        {
          "output_type": "stream",
          "name": "stdout",
          "text": [
            "Delta: 4\n"
          ]
        }
      ]
    },
    {
      "cell_type": "code",
      "source": [
        "## Question 14\n",
        "\n",
        "'''\n",
        "an = 10 + 4n\n",
        "\n",
        "'''\n",
        "\n",
        "sum = 0\n",
        "sequence = 10\n",
        "\n",
        "for e in range(1, (sequence + 1) ):\n",
        "  sum = sum + (10 + 4*e)\n",
        "  ## print(f\"{e} makes sum to be {sum}\") # debug\n",
        "\n",
        "\n",
        "print(f\"The sum of the first {sequence} elements in a sequence: {float(sum)}\")\n",
        "\n"
      ],
      "metadata": {
        "colab": {
          "base_uri": "https://localhost:8080/"
        },
        "id": "k5tpW7M8MT2n",
        "outputId": "bfacdf8b-dbe9-40c1-b81b-051a7f4b5f5f"
      },
      "execution_count": null,
      "outputs": [
        {
          "output_type": "stream",
          "name": "stdout",
          "text": [
            "The sum of the first 10 elements in a sequence: 320.0\n"
          ]
        }
      ]
    },
    {
      "cell_type": "code",
      "source": [
        "## Question 15\n",
        "\n",
        "'''\n",
        "nth term = 8 * (2**(n-1))\n",
        "  where n is the number of sequences\n",
        "'''\n",
        "sum2 = 0\n",
        "sequence = 6\n",
        "\n",
        "for n in range(1, (sequence + 1)):\n",
        "  sum2 = sum2 + 8 * (2**(n-1))\n",
        "\n",
        "print(f\"The sum of the first {sequence} elements of the sequence is: {float(sum2)}\")"
      ],
      "metadata": {
        "colab": {
          "base_uri": "https://localhost:8080/"
        },
        "id": "i7an-6WdP1nD",
        "outputId": "ee9146e2-b1b9-4804-f99c-87795dffc162"
      },
      "execution_count": null,
      "outputs": [
        {
          "output_type": "stream",
          "name": "stdout",
          "text": [
            "The sum of the first 6 elements of the sequence is: 504.0\n"
          ]
        }
      ]
    },
    {
      "cell_type": "code",
      "source": [
        "## Question 16\n",
        "\n",
        "'''\n",
        "Vieta's Formula\n",
        "\n",
        "ax^2 + bx + c = 0\n",
        "\n",
        "  Theorem 1\n",
        "  *********\n",
        "\n",
        "    Let r1 and r2 be the roots of the quadratic equation ax2 + bx + c = 0. \n",
        "    Then the two identities:\n",
        "\n",
        "      r1 + r2 = −b/a and  r1 * r2 = c/a\n",
        "\n",
        "    both hold\n",
        "\n",
        "'''\n",
        "\n",
        "a = 1\n",
        "b = 5\n",
        "c = 4\n",
        "\n",
        "r1_add_r2 = (-1) * (b/a)\n",
        "r1_multiply_r2 = (c/a)\n",
        "\n",
        "print(f'x1 + x2 = {r1_add_r2}')\n",
        "print(f'x1x2 = {r1_multiply_r2}')\n"
      ],
      "metadata": {
        "colab": {
          "base_uri": "https://localhost:8080/"
        },
        "id": "aq_HsZMHR4g4",
        "outputId": "e1669401-d34c-42af-9edc-f39a93694915"
      },
      "execution_count": null,
      "outputs": [
        {
          "output_type": "stream",
          "name": "stdout",
          "text": [
            "x1 + x2 = -5.0\n",
            "x1x2 = 4.0\n"
          ]
        }
      ]
    },
    {
      "cell_type": "code",
      "source": [
        "## Question 17\n",
        "\n",
        "'''\n",
        "Midpoint Formula:\n",
        "****************\n",
        "\n",
        "  Midpoint = (mx, my)\n",
        "  Midpoint = ( (x1 + x2)/2 , (y1 + y2)/2 )\n",
        "\n",
        "'''\n",
        "# A = (2,4)   B = (-4,6)\n",
        "\n",
        "x1 = 2\n",
        "y1 = 4\n",
        "\n",
        "x2 = -4\n",
        "y2 = 6\n",
        "\n",
        "mx = (x1 + x2)/2\n",
        "my = (y1 + y2)/2\n",
        "\n",
        "print(f\"The middle point: ({mx}, {my})\")\n"
      ],
      "metadata": {
        "colab": {
          "base_uri": "https://localhost:8080/"
        },
        "id": "Zcs0XgUbV6Ra",
        "outputId": "9bc3fb71-b531-47a2-cc89-70f26eed80a7"
      },
      "execution_count": null,
      "outputs": [
        {
          "output_type": "stream",
          "name": "stdout",
          "text": [
            "The middle point: (-1.0, 5.0)\n"
          ]
        }
      ]
    },
    {
      "cell_type": "code",
      "source": [
        "# import the math module \n",
        "import math\n",
        "\n",
        "## Question 18\n",
        "\n",
        "'''\n",
        "Distance Formula:\n",
        "*****************\n",
        "\n",
        "  Distance = math.sqrt( (x2-x1)**2 + (y2-y1)**2 )\n",
        "\n",
        "'''\n",
        "\n",
        "# A = (3,2)   B = (-1, -1)\n",
        "\n",
        "x1 = 3\n",
        "y1 = 2\n",
        "\n",
        "x2 = -1\n",
        "y2 = -1\n",
        "\n",
        "d = math.sqrt( (x2-x1)**2 + (y2-y1)**2 )\n",
        "\n",
        "print(f'The distance between points A and B: {d}')\n"
      ],
      "metadata": {
        "colab": {
          "base_uri": "https://localhost:8080/"
        },
        "id": "Pd32inzmXtbv",
        "outputId": "72f24668-bb51-4ab9-d2d1-d1ef47a283c3"
      },
      "execution_count": null,
      "outputs": [
        {
          "output_type": "stream",
          "name": "stdout",
          "text": [
            "The distance between points A and B: 5.0\n"
          ]
        }
      ]
    },
    {
      "cell_type": "code",
      "source": [
        "## Question 19\n",
        "\n",
        "import math\n",
        "\n",
        "'''\n",
        "  d = (b**2) - (4*a*c)  \n",
        "\n",
        "  # find two solutions  \n",
        "  sol1 = (-b-math.sqrt(d))/(2*a)  \n",
        "  sol2 = (-b+math.sqrt(d))/(2*a) \n",
        "'''\n",
        "\n",
        "a = 1\n",
        "b = 5\n",
        "c = 4\n",
        "\n",
        "d = (b**2) - (4*a*c)  \n",
        "\n",
        "x1 = (-b-math.sqrt(d))/(2*a)  \n",
        "x2 = (-b+math.sqrt(d))/(2*a)\n",
        "\n",
        "print(f\"x1 = {x1}\")\n",
        "print(f\"x2 = {x2}\")\n"
      ],
      "metadata": {
        "colab": {
          "base_uri": "https://localhost:8080/"
        },
        "id": "GL0b0mWoZJy5",
        "outputId": "9a77f384-44da-4d1c-f7ac-61296ff8c28c"
      },
      "execution_count": null,
      "outputs": [
        {
          "output_type": "stream",
          "name": "stdout",
          "text": [
            "x1 = -4.0\n",
            "x2 = -1.0\n"
          ]
        }
      ]
    },
    {
      "cell_type": "code",
      "source": [
        "# Question 20\n",
        "\n",
        "'''\n",
        "  Formula for Geometric Mean (grouped data):  Gm = Antilog( (sum of log(x) / n ) )\n",
        "  where: \n",
        "    n is the single elements\n",
        "    x is the number of iterations\n",
        "\n",
        "'''\n",
        "\n",
        "import math\n",
        "\n",
        "sum_of_logs = 0\n",
        "grouped_data = [ 4, 3, 4.5, 5]\n",
        "\n",
        "for i in range(0, len(grouped_data)):\n",
        "  x = grouped_data[i]\n",
        "  sum_of_logs = sum_of_logs + math.log(x)\n",
        "  print(f\"{i} - sum is {sum_of_logs} because log({x}): {math.log(x)}\")\n",
        "\n",
        "print(\"\\n\")\n",
        "geometric_mean = math.exp(sum_of_logs/len(grouped_data))\n",
        "\n",
        "print(f\"Geometric average of the given numbers: {geometric_mean:.2f}\")\n"
      ],
      "metadata": {
        "colab": {
          "base_uri": "https://localhost:8080/"
        },
        "id": "cN9CrKH4bHB_",
        "outputId": "cb78ae92-fae2-497f-ff1b-f44c11b3c5ef"
      },
      "execution_count": null,
      "outputs": [
        {
          "output_type": "stream",
          "name": "stdout",
          "text": [
            "0 - sum is 1.3862943611198906 because log(4): 1.3862943611198906\n",
            "1 - sum is 2.4849066497880004 because log(3): 1.0986122886681098\n",
            "2 - sum is 3.9889840465642745 because log(4.5): 1.5040773967762742\n",
            "3 - sum is 5.598421958998375 because log(5): 1.6094379124341003\n",
            "\n",
            "\n",
            "Geometric average of the given numbers: 4.05\n"
          ]
        }
      ]
    },
    {
      "cell_type": "code",
      "source": [
        "## Question 21\n",
        "\n",
        "'''\n",
        "  Formula for an \n",
        "  Infinite Geometric Sequence: gS = a*( 1 / (1 - r) )\n",
        "\n",
        "    where: \n",
        "        a is the first term\n",
        "        r is the common ratio (the factor between the terms)\n",
        "        r != 0 AND -1 < r < 1\n",
        "\n",
        "'''\n",
        "\n",
        "sequence = [ 1, 1/2, 1/4, 1/8]\n",
        "r = 0\n",
        "\n",
        "for x in range(0, len(sequence)):\n",
        "  index = len(sequence) - x - 1\n",
        "\n",
        "  quotient = sequence[index] / sequence[index-1]\n",
        "\n",
        "  if quotient > -1 and quotient < 1:\n",
        "\n",
        "    is_q_true = quotient > -1 and quotient < 1\n",
        "    # print(\"q: \", quotient, \"\\t\",\" -1 < q < 1\", is_q_true)\n",
        "    r = quotient\n",
        "\n",
        "a = 1\n",
        "gS = a*( 1 / (1 - r) )\n",
        "\n",
        "print(f\"The sum of the sequence: {gS}\")\n",
        "\n"
      ],
      "metadata": {
        "id": "1b9LVD1gg9Dg",
        "colab": {
          "base_uri": "https://localhost:8080/"
        },
        "outputId": "2a8c4786-d6c4-4604-e86e-86a990b48bcf"
      },
      "execution_count": 25,
      "outputs": [
        {
          "output_type": "stream",
          "name": "stdout",
          "text": [
            "The sum of the sequence: 2.0\n"
          ]
        }
      ]
    },
    {
      "cell_type": "code",
      "source": [
        "## Question 22\n",
        "\n",
        "'''\n",
        "The standard deviation is the average amount of variability in your dataset. \n",
        "It tells you, on average, how far each value lies from the mean. \n",
        "A high standard deviation means that values are generally far from the mean, \n",
        "while a low standard deviation indicates that values are clustered close \n",
        "to the mean.\n",
        "\n",
        "Formula for Standard Deviation of a POPULATION:\n",
        "********************************************** \n",
        "\n",
        "sD = math.sqrt( (sum(X - u)**2) / N)\n",
        "\n",
        "where:\n",
        "  sD  - the population standard deviation\n",
        "  X   - each value (individual values of a population / not a sample)\n",
        "  u   - population mean\n",
        "  N   - number of values in the population\n",
        "\n",
        "'''\n",
        "\n",
        "import math\n",
        "\n",
        "dataset = [10, 11, 9]\n",
        "\n",
        "# find the mean: \n",
        "# mean = sum of all dataset values/length of the dataset\n",
        "u = sum(dataset)/len(dataset)\n",
        "\n",
        "# find the deviation from each mean:\n",
        "# subtract the mean from each value and then square it\n",
        "\n",
        "deviation = list()\n",
        "\n",
        "for x in range(len(dataset)):\n",
        "  '''\n",
        "  print(\n",
        "      \"i: \", x, \n",
        "      f\"\\t {dataset[x]} - {u} = \",(dataset[x]-u), \"\\t\",\n",
        "      f\"(x - u)**2 = {(dataset[x]-u)**2}\" )\n",
        "  '''\n",
        "  deviation.append((dataset[x]-u)**2)\n",
        "\n",
        "# N = number of values in a population\n",
        "N = len(dataset)\n",
        "\n",
        "# apply the formula\n",
        "sD = math.sqrt( (sum(deviation)/N) )\n",
        "\n",
        "print(f\"The standard deviation: {round(sD, 2)}\")"
      ],
      "metadata": {
        "colab": {
          "base_uri": "https://localhost:8080/"
        },
        "id": "utqe0kyrX6fD",
        "outputId": "8ab6fc07-0fb4-47fa-fcb9-77135a612244"
      },
      "execution_count": 44,
      "outputs": [
        {
          "output_type": "stream",
          "name": "stdout",
          "text": [
            "The standard deviation: 0.82\n"
          ]
        }
      ]
    },
    {
      "cell_type": "code",
      "source": [
        "## Question 23\n",
        "\n",
        "filename = 'view.jpg'\n",
        "string_length = len(filename)\n",
        "print(filename[string_length - 3:])\n",
        "\n",
        "#   v i e w . j p g\n",
        "#   0 1 2 3 4 5 6 7\n",
        "# print(filename[-3:])\n",
        "# print(filename[5:])"
      ],
      "metadata": {
        "colab": {
          "base_uri": "https://localhost:8080/"
        },
        "id": "nrjEOlGukihp",
        "outputId": "a1b5ca5d-2aae-44fa-a9ec-bdbee253272f"
      },
      "execution_count": 61,
      "outputs": [
        {
          "output_type": "stream",
          "name": "stdout",
          "text": [
            "jpg\n",
            "\n"
          ]
        }
      ]
    },
    {
      "cell_type": "code",
      "source": [
        "## Question 24\n",
        "\n",
        "string = 'PKV-89415-PLN'\n",
        "\n",
        "# P K V - 8 9 4 1 5 - P  L  N\n",
        "# 0 1 2 3 4 5 6 7 8 9 10 11 12\n",
        "\n",
        "# string[0:3]\n",
        "first_str = string[:3]\n",
        "\n",
        "# string[-3:12]\n",
        "last_str = string[-3:]\n",
        "\n",
        "final_str = first_str + last_str\n",
        "\n",
        "print(f\"{final_str}\")\n",
        "\n"
      ],
      "metadata": {
        "colab": {
          "base_uri": "https://localhost:8080/"
        },
        "id": "LFSx2m6buv6H",
        "outputId": "534f3575-942c-4eca-b7d7-591db37fe678"
      },
      "execution_count": 62,
      "outputs": [
        {
          "output_type": "stream",
          "name": "stdout",
          "text": [
            "PKVPLN\n"
          ]
        }
      ]
    },
    {
      "cell_type": "code",
      "source": [
        "## Question 25\n",
        "\n",
        "'''\n",
        "Convert number from binary(base 2) to decimal(base 10):\n",
        "*******************************************************\n",
        "\n",
        "formula: decimal = d0×20 + d1×21 + d2×22 + ...\n",
        "\n",
        "(100101)₂ =   (1 × 2⁵) + \n",
        "              (0 × 2⁴) + \n",
        "              (0 × 2³) + \n",
        "              (1 × 2²) + \n",
        "              (0 × 2¹) + \n",
        "              (1 × 2⁰) = (37)₁₀\n",
        "'''\n",
        "\n",
        "string = '1 0 0 1 0 1'\n",
        "\n",
        "# 1 _ 0 _ 0 _ 1 _ 0 _ 1\n",
        "# 0 1 2 3 4 5 6 7 8 9 10\n",
        "\n",
        "# remove the slices\n",
        "no_space = string[0:len(string):2]\n",
        "\n",
        "str_len = len(no_space)\n",
        "# print(f\"string: {no_space} \\t length: {str_len}\")\n",
        "\n",
        "# convert to int\n",
        "int_list = list()\n",
        "sum = 0\n",
        "\n",
        "for i in range(len(no_space)):\n",
        "\n",
        "  decimal_val = int(no_space[i])*(2**(str_len - i - 1)) \n",
        "  sum = sum + decimal_val\n",
        "\n",
        "  '''\n",
        "  print(\n",
        "      f\"i:{i} -> sum:{sum} \\t\"\n",
        "      f\"{no_space[i]} x 2**{str_len - i - 1} = {decimal_val}\")\n",
        "  '''\n",
        "\n",
        "print(f'Number found: {sum}')\n",
        "\n",
        "'''\n",
        "# alternate answer\n",
        "string = '1 0 0 1 0 1'\n",
        "binary = string[::2]\n",
        "number = int(binary, 2)\n",
        "print(f'Number found: {number}')\n",
        "'''"
      ],
      "metadata": {
        "colab": {
          "base_uri": "https://localhost:8080/"
        },
        "id": "_Y8NJfuYyRYY",
        "outputId": "3f3c6e39-4869-414b-a3ed-abf6bfd84677"
      },
      "execution_count": 78,
      "outputs": [
        {
          "output_type": "stream",
          "name": "stdout",
          "text": [
            "string: 100101 \t length: 6\n",
            "i:0 -> sum:32 \t1 x 2**5 = 32\n",
            "i:1 -> sum:32 \t0 x 2**4 = 0\n",
            "i:2 -> sum:32 \t0 x 2**3 = 0\n",
            "i:3 -> sum:36 \t1 x 2**2 = 4\n",
            "i:4 -> sum:36 \t0 x 2**1 = 0\n",
            "i:5 -> sum:37 \t1 x 2**0 = 1\n",
            "Number found: 37\n"
          ]
        }
      ]
    },
    {
      "cell_type": "code",
      "source": [
        "## Question 26\n",
        "\n",
        "'''\n",
        "stringObject[ start : stop : step]\n",
        "\n",
        "where:\n",
        "  start - index used as a starting point\n",
        "        - if ommitted, Python will substitute with 0\n",
        "  \n",
        "  stop  - index used as a stopping point\n",
        "        - if ommitted, Python will substitute with the \n",
        "          value of the length of the list\n",
        "\n",
        "  step  - interva; used to step through the list\n",
        "        - if ommitted, Python will substitute with 1\n",
        "\n",
        "string = 'Happy'\n",
        "\n",
        "#   H a p p y n e s s\n",
        "#   0 1 2 3 4 5 6 7 8   with length of 9\n",
        "\n",
        "string[1]   = string[0:1:1]   = 'H' ## start -> 0 AND step -> 1 \n",
        "string[2:3] = string[2:3:1]   = 'p' ## step -> 1\n",
        "string[:4:2]= string[0:4:2]   = 'Hp'## start ->  0\n",
        "\n",
        "string[::-1]= string[0:9:-1]  = 'ssenyppaH' \n",
        "\n",
        "\n",
        "'''\n",
        "string = 'Happyness'\n",
        "print(f\"test: \", string[2::-1], \" vs\\t\", string[2:9:-1])\n",
        "\n",
        "\n",
        "\n",
        "text = 'Python Course'\n",
        "print(text[-1::-1])\n",
        "\n",
        "# print(text[::-1])"
      ],
      "metadata": {
        "colab": {
          "base_uri": "https://localhost:8080/"
        },
        "id": "bA0iryXG34j0",
        "outputId": "baace332-9c08-45fa-c561-d9e9144dfde1"
      },
      "execution_count": 114,
      "outputs": [
        {
          "output_type": "stream",
          "name": "stdout",
          "text": [
            "test:  paH  vs\t \n",
            "esruoC nohtyP\n"
          ]
        }
      ]
    },
    {
      "cell_type": "code",
      "source": [
        "## Question 27\n",
        "\n",
        "var1 = ''\n",
        "var2 = ' '\n",
        "var3 = '\\n'\n",
        "print(f\"{type(var1)}\\n{type(var2)}\\n{type(var3)}\")"
      ],
      "metadata": {
        "colab": {
          "base_uri": "https://localhost:8080/"
        },
        "id": "hBjnG3Sq55tM",
        "outputId": "fa0446e1-4af3-4743-9f81-e72521895889"
      },
      "execution_count": 115,
      "outputs": [
        {
          "output_type": "stream",
          "name": "stdout",
          "text": [
            "<class 'str'>\n",
            "<class 'str'>\n",
            "<class 'str'>\n"
          ]
        }
      ]
    },
    {
      "cell_type": "code",
      "source": [
        "## Question 28\n",
        "\n",
        "var1 = None\n",
        "var2 = False\n",
        "var3 = 'True'\n",
        "\n",
        "print(f\"{type(var1)}\\n{type(var2)}\\n{type(var3)}\")"
      ],
      "metadata": {
        "colab": {
          "base_uri": "https://localhost:8080/"
        },
        "id": "0-glBz6vH1kk",
        "outputId": "a1254d49-f353-44e8-d836-a91ab8ed12b5"
      },
      "execution_count": 116,
      "outputs": [
        {
          "output_type": "stream",
          "name": "stdout",
          "text": [
            "<class 'NoneType'>\n",
            "<class 'bool'>\n",
            "<class 'str'>\n"
          ]
        }
      ]
    },
    {
      "cell_type": "code",
      "source": [
        "## Question 29\n",
        "\n",
        "flag = False\n",
        "\n",
        "print(isinstance(flag, bool))"
      ],
      "metadata": {
        "colab": {
          "base_uri": "https://localhost:8080/"
        },
        "id": "mzr8hKnSJSW0",
        "outputId": "b8ce009a-aeae-4db6-8a8d-c71fcd285213"
      },
      "execution_count": 117,
      "outputs": [
        {
          "output_type": "stream",
          "name": "stdout",
          "text": [
            "True\n"
          ]
        }
      ]
    },
    {
      "cell_type": "code",
      "source": [
        "## Question 30\n",
        "\n",
        "text = 'python is a popular programming language.'\n",
        "\n",
        "print(text.capitalize())"
      ],
      "metadata": {
        "colab": {
          "base_uri": "https://localhost:8080/"
        },
        "id": "-yuyhxKbKFTu",
        "outputId": "c17329c4-c93a-484d-c3b7-616236d51a01"
      },
      "execution_count": 118,
      "outputs": [
        {
          "output_type": "stream",
          "name": "stdout",
          "text": [
            "Python is a popular programming language.\n"
          ]
        }
      ]
    },
    {
      "cell_type": "code",
      "source": [
        "## Question 31\n",
        "\n",
        "text = 'python is a popular programming language.'\n",
        "\n",
        "count_p = text.count('p')\n",
        "print('Number of occurences:', count_p)"
      ],
      "metadata": {
        "colab": {
          "base_uri": "https://localhost:8080/"
        },
        "id": "nMJDJEJHK73Y",
        "outputId": "5861063e-084e-4a9e-d3ba-690aef2fa19f"
      },
      "execution_count": 120,
      "outputs": [
        {
          "output_type": "stream",
          "name": "stdout",
          "text": [
            "Number of occurences: 4\n"
          ]
        }
      ]
    },
    {
      "cell_type": "code",
      "source": [
        "## Question 32\n",
        "\n",
        "code1 = 'FVNISJND-XX-2020'\n",
        "code2 = 'FVNISJND-XY-2019'\n",
        "\n",
        "print('code1:', code1[len(code1)-4::] == '2020')\n",
        "print('code2:', code2[len(code2)-4::] == '2020')\n",
        "\n",
        "'''\n",
        "print(f\"code1: {code1.endswith('2020')}\")\n",
        "print(f\"code2: {code2.endswith('2020')}\")\n",
        "'''"
      ],
      "metadata": {
        "colab": {
          "base_uri": "https://localhost:8080/"
        },
        "id": "N8T0YZb3LUa0",
        "outputId": "97033198-f9e1-46ff-aab3-543e9dc65848"
      },
      "execution_count": 131,
      "outputs": [
        {
          "output_type": "stream",
          "name": "stdout",
          "text": [
            "code1: True\n",
            "code2: False\n"
          ]
        }
      ]
    },
    {
      "cell_type": "code",
      "source": [
        "## Question 33\n",
        "\n",
        "path1 = 'youtube.com/watch?v=5EhRztVxums'\n",
        "path2 = 'google.com/search?q=car'\n",
        "\n",
        "print('path1:', ('youtube' in path1))\n",
        "print('path2:', ('youtube' in path2))\n",
        "\n",
        "# print(f\"path1: {path1.startswith('youtube')}\")\n",
        "# print(f\"path2: {path2.startswith('youtube')}\")"
      ],
      "metadata": {
        "colab": {
          "base_uri": "https://localhost:8080/"
        },
        "id": "sK8Fgz8KMxI-",
        "outputId": "bd771cda-4440-40f9-8b5f-1bff76262143"
      },
      "execution_count": 146,
      "outputs": [
        {
          "output_type": "stream",
          "name": "stdout",
          "text": [
            "path1: True\n",
            "path2: False\n"
          ]
        }
      ]
    },
    {
      "cell_type": "code",
      "source": [
        "## Question 34\n",
        "\n",
        "path1 = 'https://e-smartdata.teachable.com/p/sciezka-data-scientist-machine-learning-engineer'\n",
        "path2 = 'https://e-smartdata.teachable.com/p/sciezka-data-scientist-deep-learning-engineer'\n",
        "path3 = 'https://e-smartdata.teachable.com/p/sciezka-bi-analyst-data-analyst'\n",
        "\n",
        "print('path1:', path1.find('scientist'))\n",
        "print('path2:', path2.find('scientist'))\n",
        "print('path3:', path3.find('scientist'))"
      ],
      "metadata": {
        "colab": {
          "base_uri": "https://localhost:8080/"
        },
        "id": "DOZAzY0TOmqy",
        "outputId": "f30b6f70-6814-4936-aa3f-f0535d3daebb"
      },
      "execution_count": 149,
      "outputs": [
        {
          "output_type": "stream",
          "name": "stdout",
          "text": [
            "path1: 49\n",
            "path2: 49\n",
            "path3: -1\n"
          ]
        }
      ]
    },
    {
      "cell_type": "code",
      "source": [
        "## Question 35\n",
        "\n",
        "code1 = 'FVNISJND-20'\n",
        "code2 = 'FVNISJND20'\n",
        "\n",
        "print('code1:', code1.isalnum())\n",
        "print('code2:', code2.isalnum())"
      ],
      "metadata": {
        "colab": {
          "base_uri": "https://localhost:8080/"
        },
        "id": "tFMV8SC4VfVZ",
        "outputId": "65f49296-b11e-4eff-c71d-46e4eba85538"
      },
      "execution_count": 151,
      "outputs": [
        {
          "output_type": "stream",
          "name": "stdout",
          "text": [
            "code1: False\n",
            "code2: True\n"
          ]
        }
      ]
    },
    {
      "cell_type": "code",
      "source": [
        "## Question 36\n",
        "\n",
        "text = 'Google Colab'\n",
        "\n",
        "print(text.lower())"
      ],
      "metadata": {
        "colab": {
          "base_uri": "https://localhost:8080/"
        },
        "id": "Us9LaZhAW7hU",
        "outputId": "ab5300ff-1796-49cb-ffb8-3f4cfc5c0d30"
      },
      "execution_count": 153,
      "outputs": [
        {
          "output_type": "stream",
          "name": "stdout",
          "text": [
            "google colab\n"
          ]
        }
      ]
    },
    {
      "cell_type": "code",
      "source": [
        "## Question 37\n",
        "\n",
        "text = 'Google Colab'\n",
        "\n",
        "print(text.upper())"
      ],
      "metadata": {
        "colab": {
          "base_uri": "https://localhost:8080/"
        },
        "id": "iOJav_4rXfUa",
        "outputId": "90246700-20e2-496c-9a78-72a8a7ac855d"
      },
      "execution_count": 154,
      "outputs": [
        {
          "output_type": "stream",
          "name": "stdout",
          "text": [
            "GOOGLE COLAB\n"
          ]
        }
      ]
    },
    {
      "cell_type": "code",
      "source": [
        "## Question 38\n",
        "\n",
        "text = '  Google Colab   '\n",
        "\n",
        "print(text.strip(' '))\n",
        "# print(text.strip())"
      ],
      "metadata": {
        "colab": {
          "base_uri": "https://localhost:8080/"
        },
        "id": "-AyI7qhGYDlJ",
        "outputId": "50705123-59b6-4b9e-bcc5-93eacb495ab1"
      },
      "execution_count": 155,
      "outputs": [
        {
          "output_type": "stream",
          "name": "stdout",
          "text": [
            "Google Colab\n"
          ]
        }
      ]
    },
    {
      "cell_type": "code",
      "source": [
        "## Question 39\n",
        "\n",
        "code = 'FVNISJND-XX'\n",
        "\n",
        "print(code.replace('-',' '))"
      ],
      "metadata": {
        "colab": {
          "base_uri": "https://localhost:8080/"
        },
        "id": "_Hu8FAQzYgg8",
        "outputId": "6f4ebef8-3129-41b3-cb8a-da5840fe93b2"
      },
      "execution_count": 157,
      "outputs": [
        {
          "output_type": "stream",
          "name": "stdout",
          "text": [
            "FVNISJND XX\n"
          ]
        }
      ]
    },
    {
      "cell_type": "code",
      "source": [
        "## Question 40\n",
        "\n",
        "text = '340-23-245-235'\n",
        "\n",
        "print(text.replace('-',''))"
      ],
      "metadata": {
        "colab": {
          "base_uri": "https://localhost:8080/"
        },
        "id": "S7DaBu45ZFue",
        "outputId": "afe328a0-821d-4138-c913-0ca58f8757bf"
      },
      "execution_count": 160,
      "outputs": [
        {
          "output_type": "stream",
          "name": "stdout",
          "text": [
            "34023245235\n"
          ]
        }
      ]
    },
    {
      "cell_type": "code",
      "source": [
        "## Question 41\n",
        "\n",
        "text = 'Open,High,Low,Close'\n",
        "\n",
        "print(text.split(','))"
      ],
      "metadata": {
        "colab": {
          "base_uri": "https://localhost:8080/"
        },
        "id": "xo8SjOz0ZYDg",
        "outputId": "aff12484-67ad-4316-f37a-05bae0262221"
      },
      "execution_count": 162,
      "outputs": [
        {
          "output_type": "stream",
          "name": "stdout",
          "text": [
            "['Open', 'High', 'Low', 'Close']\n"
          ]
        }
      ]
    },
    {
      "cell_type": "code",
      "source": [
        "## Question 42\n",
        "\n",
        "text = \"\"\"Python is a general-purpose language.\n",
        "Python is popular.\"\"\"\n",
        "\n",
        "print(text.split('\\n'))"
      ],
      "metadata": {
        "colab": {
          "base_uri": "https://localhost:8080/"
        },
        "id": "ULHNKj7GaFkV",
        "outputId": "7208d959-4bc3-4b81-ffc6-c65cd3d24a22"
      },
      "execution_count": 163,
      "outputs": [
        {
          "output_type": "stream",
          "name": "stdout",
          "text": [
            "['Python is a general-purpose language.', 'Python is popular.']\n"
          ]
        }
      ]
    },
    {
      "cell_type": "code",
      "source": [
        "## Question 43\n",
        "\n",
        "num = 34\n",
        "\n",
        "string = str(num)\n",
        "zero_count = len(string) + 4\n",
        "\n",
        "print(string.zfill(zero_count))\n",
        "\n",
        "# print(str(num).zfill(6))\n",
        "\n"
      ],
      "metadata": {
        "colab": {
          "base_uri": "https://localhost:8080/"
        },
        "id": "p82XGagVafX8",
        "outputId": "79f92133-82b3-46f2-80c8-7af0f7e19d7a"
      },
      "execution_count": 169,
      "outputs": [
        {
          "output_type": "stream",
          "name": "stdout",
          "text": [
            "000034\n"
          ]
        }
      ]
    },
    {
      "cell_type": "code",
      "source": [
        "## Question 44\n",
        "\n",
        "url = 'https://e-smartdata.teachable.com/p/sciezka-data-scientist-machine-learning-engineer'\n",
        "\n",
        "string = url.split('/')\n",
        "print(string[len(string)-1].replace('-',' '))\n",
        "\n",
        "'''\n",
        "url = 'https://e-smartdata.teachable.com/p/sciezka-data-scientist-machine-learning-engineer'\n",
        "name = url.split('/')[-1]\n",
        "name = name.replace('-', ' ')\n",
        "print(name)\n",
        "'''"
      ],
      "metadata": {
        "colab": {
          "base_uri": "https://localhost:8080/"
        },
        "id": "dRgM1fxJb1d3",
        "outputId": "f872cedc-38b7-484e-aca7-ebb24400581f"
      },
      "execution_count": 178,
      "outputs": [
        {
          "output_type": "stream",
          "name": "stdout",
          "text": [
            "sciezka data scientist machine learning engineer\n"
          ]
        }
      ]
    },
    {
      "cell_type": "code",
      "source": [
        "## Question 45\n",
        "\n",
        "subjects = {'mathematics', 'biology'}\n",
        "subjects.add('english')\n",
        "print(subjects)"
      ],
      "metadata": {
        "colab": {
          "base_uri": "https://localhost:8080/"
        },
        "id": "KsVQRw1Aklkp",
        "outputId": "c606cd32-f49f-4e30-ba69-8fcc27639694"
      },
      "execution_count": 184,
      "outputs": [
        {
          "output_type": "stream",
          "name": "stdout",
          "text": [
            "{'english', 'biology', 'mathematics'}\n"
          ]
        }
      ]
    },
    {
      "cell_type": "code",
      "source": [
        "## Question 46\n",
        "\n",
        "# change all letters to lowercase\n",
        "# delete spaces and periods\n",
        "# create a set consisting of all letters in the text and assign to letters variable\n",
        "# remove all vowels from letters set\n",
        "\n",
        "text = 'Programming in python.'\n",
        "vowels = {'a', 'e', 'i', 'o', 'u'}\n",
        "\n",
        "text = text.lower()\n",
        "text = \"\".join(text.split())\n",
        "text = \"\".join(text.split('.'))\n",
        "\n",
        "letters = set(text)\n",
        "letters.difference_update(vowels)\n",
        "items = len(letters)\n",
        "# print( f'{set(text)} \\n{vowels}\\n{letters}\\t length: {items}')\n",
        "\n",
        "print('Number of items:', items)\n",
        "\n",
        "\n",
        "  # text = text.lower()\n",
        "  # text = text.replace(' ', '')\n",
        "  # text = text.replace('.', '')\n",
        "  # vowels = {'a', 'e', 'i', 'o', 'u'}\n",
        "  # letters = set(text)\n",
        "  # consonants = letters.difference(vowels)\n",
        "  # print(f'Number of items: {len(consonants)}')\n"
      ],
      "metadata": {
        "colab": {
          "base_uri": "https://localhost:8080/"
        },
        "id": "69rQvAdVlCF6",
        "outputId": "4d9e8f6c-99d3-4418-9e90-c45eb1d8b8db"
      },
      "execution_count": 11,
      "outputs": [
        {
          "output_type": "stream",
          "name": "stdout",
          "text": [
            "Number of items: 8\n"
          ]
        }
      ]
    },
    {
      "cell_type": "code",
      "source": [
        "## Question 47\n",
        "\n",
        "A = {2, 4, 6, 8}\n",
        "B = {4, 10}\n",
        "\n",
        "print('Symmetric difference:', A.symmetric_difference(B) )"
      ],
      "metadata": {
        "colab": {
          "base_uri": "https://localhost:8080/"
        },
        "id": "UeorXFuRoP5y",
        "outputId": "330d48a4-9016-4b83-e66a-f04d9832b4d8"
      },
      "execution_count": 13,
      "outputs": [
        {
          "output_type": "stream",
          "name": "stdout",
          "text": [
            "Symmetrical difference: {2, 6, 8, 10}\n"
          ]
        }
      ]
    },
    {
      "cell_type": "code",
      "source": [
        "## Question 48\n",
        "\n",
        "ad1_id = {'001', '002', '003'}\n",
        "ad2_id = {'002', '003', '007'}\n",
        "\n",
        "id = ad1_id.symmetric_difference(ad2_id)\n",
        "print('Selected ID:', id)"
      ],
      "metadata": {
        "colab": {
          "base_uri": "https://localhost:8080/"
        },
        "id": "8l-alXESyHsB",
        "outputId": "aae2f621-c687-4b86-c953-531683b56981"
      },
      "execution_count": 14,
      "outputs": [
        {
          "output_type": "stream",
          "name": "stdout",
          "text": [
            "Selected ID: {'007', '001'}\n"
          ]
        }
      ]
    },
    {
      "cell_type": "code",
      "source": [
        "## Question 49\n",
        "\n",
        "is_clicked = {'9001', '9002', '9005'}\n",
        "is_bought =  {'9002', '9004', '9005'}\n",
        "\n",
        "result = is_clicked.intersection(is_bought)\n",
        "print('Customer ID:', result)"
      ],
      "metadata": {
        "colab": {
          "base_uri": "https://localhost:8080/"
        },
        "id": "RopLKWoFzHe2",
        "outputId": "f05ad350-d504-4873-8bf6-0ef41f24ca66"
      },
      "execution_count": 16,
      "outputs": [
        {
          "output_type": "stream",
          "name": "stdout",
          "text": [
            "Customer ID: {'9002', '9005'}\n"
          ]
        }
      ]
    },
    {
      "cell_type": "code",
      "source": [
        "## Question 50\n",
        "\n",
        "dji1 = ('AAPL.US', 'IBM.US', 'MSFT.US')\n",
        "dji2 = ('HD.US', 'GS.US', 'NKE.US')\n",
        "\n",
        "result = dji1 + dji2\n",
        "print(result)"
      ],
      "metadata": {
        "colab": {
          "base_uri": "https://localhost:8080/"
        },
        "id": "TzEhV5wpzoXR",
        "outputId": "dd0771b9-2a17-4f5e-c807-ecc274b72408"
      },
      "execution_count": 19,
      "outputs": [
        {
          "output_type": "stream",
          "name": "stdout",
          "text": [
            "('AAPL.US', 'IBM.US', 'MSFT.US', 'HD.US', 'GS.US', 'NKE.US')\n"
          ]
        }
      ]
    },
    {
      "cell_type": "code",
      "source": [
        ""
      ],
      "metadata": {
        "id": "GDvqlucF0hBH"
      },
      "execution_count": null,
      "outputs": []
    }
  ]
}