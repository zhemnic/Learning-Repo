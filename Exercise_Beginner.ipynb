{
  "nbformat": 4,
  "nbformat_minor": 0,
  "metadata": {
    "colab": {
      "name": "Exercise_Beginner.ipynb",
      "provenance": [],
      "authorship_tag": "ABX9TyNLT/1gJ8tX5gMn+cVA/xi6",
      "include_colab_link": true
    },
    "kernelspec": {
      "name": "python3",
      "display_name": "Python 3"
    },
    "language_info": {
      "name": "python"
    }
  },
  "cells": [
    {
      "cell_type": "markdown",
      "metadata": {
        "id": "view-in-github",
        "colab_type": "text"
      },
      "source": [
        "<a href=\"https://colab.research.google.com/github/zhemnic/Learning-Repo/blob/master/Exercise_Beginner.ipynb\" target=\"_parent\"><img src=\"https://colab.research.google.com/assets/colab-badge.svg\" alt=\"Open In Colab\"/></a>"
      ]
    },
    {
      "cell_type": "code",
      "execution_count": 1,
      "metadata": {
        "colab": {
          "base_uri": "https://localhost:8080/"
        },
        "id": "7OTWeghD3ktY",
        "outputId": "74ad655a-d579-49dc-b538-ecbee62f48c7"
      },
      "outputs": [
        {
          "output_type": "stream",
          "name": "stdout",
          "text": [
            "Learn Python!\n"
          ]
        }
      ],
      "source": [
        "## Question 1\n",
        "\n",
        "print('Learn Python!')"
      ]
    },
    {
      "cell_type": "code",
      "source": [
        "## Question 2\n",
        "\n",
        "age = 20\n",
        "print(f'I am {age} years old.')"
      ],
      "metadata": {
        "colab": {
          "base_uri": "https://localhost:8080/"
        },
        "id": "tijPT17A38r4",
        "outputId": "feefcb4a-ab30-4fa1-eace-63e5f6a1e2a4"
      },
      "execution_count": 3,
      "outputs": [
        {
          "output_type": "stream",
          "name": "stdout",
          "text": [
            "I am 20 years old.\n"
          ]
        }
      ]
    },
    {
      "cell_type": "code",
      "source": [
        "## Question 3\n",
        "my_language = 'Python'\n",
        "my_version = '3.8'\n",
        "\n",
        "print(f'I am learning {my_language} version {my_version}')"
      ],
      "metadata": {
        "colab": {
          "base_uri": "https://localhost:8080/"
        },
        "id": "LZlvhA4b4Fbe",
        "outputId": "bdea2e54-53bf-45e9-dbc5-30e35c41adf0"
      },
      "execution_count": 4,
      "outputs": [
        {
          "output_type": "stream",
          "name": "stdout",
          "text": [
            "I am learning Python version 3.8\n"
          ]
        }
      ]
    },
    {
      "cell_type": "code",
      "source": [
        "## Question 4\n",
        "price = 199.99\n",
        "print('This costs',price)"
      ],
      "metadata": {
        "colab": {
          "base_uri": "https://localhost:8080/"
        },
        "id": "B8WX3LyY4wur",
        "outputId": "f3de33a4-9838-4d0b-d9b1-02a0e01dfb54"
      },
      "execution_count": 5,
      "outputs": [
        {
          "output_type": "stream",
          "name": "stdout",
          "text": [
            "This costs 199.99\n"
          ]
        }
      ]
    },
    {
      "cell_type": "code",
      "source": [
        "## Question 5\n",
        "price = 69.99\n",
        "print(f'This costs {price}')"
      ],
      "metadata": {
        "colab": {
          "base_uri": "https://localhost:8080/"
        },
        "id": "ODgi_TU75Dpq",
        "outputId": "9ea7e066-d3ae-413b-b26d-d55a00147a15"
      },
      "execution_count": 6,
      "outputs": [
        {
          "output_type": "stream",
          "name": "stdout",
          "text": [
            "This costs 69.99\n"
          ]
        }
      ]
    },
    {
      "cell_type": "code",
      "source": [
        "## Question 6\n",
        "product_price = 34.99\n",
        "product_weight = 20\n",
        "\n",
        "print(f'Price: ${product_price}. Weight: {product_weight} lbs.')"
      ],
      "metadata": {
        "colab": {
          "base_uri": "https://localhost:8080/"
        },
        "id": "2vJ9IuRN5Y8m",
        "outputId": "743c75c4-a03d-4eaa-db2e-e6d81eb45ea8"
      },
      "execution_count": 7,
      "outputs": [
        {
          "output_type": "stream",
          "name": "stdout",
          "text": [
            "Price: $34.99. Weight: 20 lbs.\n"
          ]
        }
      ]
    },
    {
      "cell_type": "code",
      "source": [
        "## Question 7\n",
        "\n",
        "pi = 3.1415926535\n",
        "print(f\"Pi: {pi:.2f}\")"
      ],
      "metadata": {
        "colab": {
          "base_uri": "https://localhost:8080/"
        },
        "id": "Mn8FQe7_6Hyd",
        "outputId": "0de9ff07-15a3-4931-92e9-8ab5cb6810f4"
      },
      "execution_count": 9,
      "outputs": [
        {
          "output_type": "stream",
          "name": "stdout",
          "text": [
            "Pi: 3.14\n"
          ]
        }
      ]
    },
    {
      "cell_type": "code",
      "source": [
        "## Question 8\n",
        "\n",
        "dashes = '----------------------------------------'\n",
        "version = 'VERSION: 1.0.1'\n",
        "# len(dashes)\n",
        "\n",
        "print(dashes)\n",
        "print(version)\n",
        "print(dashes)\n"
      ],
      "metadata": {
        "colab": {
          "base_uri": "https://localhost:8080/"
        },
        "id": "FvUsm1uS82YJ",
        "outputId": "9cd0c0a8-223b-41d1-9c8d-ee5f915d3e0f"
      },
      "execution_count": 11,
      "outputs": [
        {
          "output_type": "stream",
          "name": "stdout",
          "text": [
            "----------------------------------------\n",
            "VERSION: 1.0.1\n",
            "----------------------------------------\n"
          ]
        }
      ]
    },
    {
      "cell_type": "code",
      "source": [
        "## Question 9\n",
        "\n",
        "line1 = 'author: johnsmith@sample.com'\n",
        "line2 = 'date: 01-01-2021'\n",
        "\n",
        "print('='*40)\n",
        "print('author: johnsmith@sample.com')\n",
        "print('date: 01-01-2021')\n",
        "print('='*40)\n"
      ],
      "metadata": {
        "colab": {
          "base_uri": "https://localhost:8080/"
        },
        "id": "IsLUxodR915f",
        "outputId": "91bd31ee-9056-447f-aebc-f8ed229ab489"
      },
      "execution_count": 12,
      "outputs": [
        {
          "output_type": "stream",
          "name": "stdout",
          "text": [
            "========================================\n",
            "author: johnsmith@sample.com\n",
            "date: 01-01-2021\n",
            "========================================\n"
          ]
        }
      ]
    },
    {
      "cell_type": "code",
      "source": [
        "## Question 10\n",
        "\n",
        "print('\\'summer', 'time','holiday\\'',sep='#')"
      ],
      "metadata": {
        "colab": {
          "base_uri": "https://localhost:8080/"
        },
        "id": "Y-WI2TD0-2VO",
        "outputId": "5ec60e38-95f5-4bec-a74b-8c0024759654"
      },
      "execution_count": 14,
      "outputs": [
        {
          "output_type": "stream",
          "name": "stdout",
          "text": [
            "'summer#time#holiday'\n"
          ]
        }
      ]
    },
    {
      "cell_type": "code",
      "source": [
        "## Question 11\n",
        "\n",
        "pi = 3.14\n",
        "radius = 5\n",
        "area = (pi)*(radius**2)\n",
        "print(f'Area: {area}')"
      ],
      "metadata": {
        "colab": {
          "base_uri": "https://localhost:8080/"
        },
        "id": "b8UMxbIGAXKR",
        "outputId": "1e8ca4e8-bf09-4808-a1dd-15399eb0286b"
      },
      "execution_count": 17,
      "outputs": [
        {
          "output_type": "stream",
          "name": "stdout",
          "text": [
            "Area: 78.5\n"
          ]
        }
      ]
    },
    {
      "cell_type": "code",
      "source": [
        "area"
      ],
      "metadata": {
        "colab": {
          "base_uri": "https://localhost:8080/"
        },
        "id": "zlQQKzTeA823",
        "outputId": "d9e78c94-3d21-47e8-cb61-8f08208cddd9"
      },
      "execution_count": 16,
      "outputs": [
        {
          "output_type": "execute_result",
          "data": {
            "text/plain": [
              "78.5"
            ]
          },
          "metadata": {},
          "execution_count": 16
        }
      ]
    },
    {
      "cell_type": "code",
      "source": [
        "## Question 12\n",
        "'''\n",
        "\n",
        "Simple Interest Formula: A = P (1 + rt)\n",
        "***********************\n",
        "\n",
        "  A\t=\tfinal amount\n",
        "  P\t=\tinitial principal balance\n",
        "  r\t=\tannual interest rate\n",
        "  t\t=\ttime (in years\n",
        "  \n",
        "Compound Interest Formula: A = P(1 + \\frac{r}{n})^{nt}\n",
        "\n",
        "  A\t=\tfinal amount\n",
        "  P\t=\tinitial principal balance\n",
        "  r\t=\tinterest rate\n",
        "  n\t=\tnumber of times interest applied per time period e.g. (1 - yearly | 12 - monthly | 54 - weekly)\n",
        "  t\t=\tnumber of time periods elapsed\n",
        "\n",
        "'''\n",
        "\n",
        "# answer: 1159.27\n",
        "\n",
        "P = 1000\n",
        "r = 3/100\n",
        "n = 1\n",
        "t = 5\n",
        "\n",
        "A = P * (1+(r/n))**(n*t)\n",
        "\n",
        "print(\"The future value of the investment:\", round(A,2), \"USD\")\n"
      ],
      "metadata": {
        "colab": {
          "base_uri": "https://localhost:8080/"
        },
        "id": "tGdvnJ99A9hc",
        "outputId": "0e55f0ca-3bc2-4d24-cf06-2dae9e183ea2"
      },
      "execution_count": 35,
      "outputs": [
        {
          "output_type": "stream",
          "name": "stdout",
          "text": [
            "The future value of the investment: 1159.27 USD\n"
          ]
        }
      ]
    },
    {
      "cell_type": "code",
      "source": [
        "# import the math module \n",
        "import math \n",
        "\n",
        "## Question 13\n",
        "\n",
        "# 3x^2 -4x + 1 = 0\n",
        "\n",
        "'''\n",
        "# calculate the discriminant  \n",
        "d = (b**2) - (4*a*c)  \n",
        "  \n",
        "# find two solutions  \n",
        "sol1 = (-b-cmath.sqrt(d))/(2*a)  \n",
        "sol2 = (-b+cmath.sqrt(d))/(2*a)  \n",
        "\n",
        "'''\n",
        "\n",
        "a = 3\n",
        "b = -4\n",
        "c = 1\n",
        "\n",
        "d = (b**2) - (4*a*c)            # (16 - 12) = 4\n",
        "                                # Delta = b^2 -4ac\n",
        "\n",
        "# sol1 = (-b-math.sqrt(d))/(2*a)  # (-4-2)/6 -> -1 \n",
        "# sol2 = (-b+math.sqrt(d))/(2*a)  # (-4+2)/6 -> 1/3 \n",
        "\n",
        "delta = (b**2) - (4*a*c)\n",
        "print(f\"Delta: {delta}\")\n"
      ],
      "metadata": {
        "colab": {
          "base_uri": "https://localhost:8080/"
        },
        "id": "dns07vRpEVC_",
        "outputId": "b7e330b3-9f16-4cfc-8c1f-f51c4e4bade0"
      },
      "execution_count": 38,
      "outputs": [
        {
          "output_type": "stream",
          "name": "stdout",
          "text": [
            "Delta: 4\n"
          ]
        }
      ]
    },
    {
      "cell_type": "code",
      "source": [
        "## Question 14\n",
        "\n",
        "'''\n",
        "an = 10 + 4n\n",
        "\n",
        "'''\n",
        "\n",
        "sum = 0\n",
        "sequence = 10\n",
        "\n",
        "for e in range(1, (sequence + 1) ):\n",
        "  sum = sum + (10 + 4*e)\n",
        "  ## print(f\"{e} makes sum to be {sum}\") # debug\n",
        "\n",
        "\n",
        "print(f\"The sum of the first {sequence} elements in a sequence: {float(sum)}\")\n",
        "\n"
      ],
      "metadata": {
        "colab": {
          "base_uri": "https://localhost:8080/"
        },
        "id": "k5tpW7M8MT2n",
        "outputId": "bfacdf8b-dbe9-40c1-b81b-051a7f4b5f5f"
      },
      "execution_count": 46,
      "outputs": [
        {
          "output_type": "stream",
          "name": "stdout",
          "text": [
            "The sum of the first 10 elements in a sequence: 320.0\n"
          ]
        }
      ]
    },
    {
      "cell_type": "code",
      "source": [
        "## Question 15\n",
        "\n",
        "'''\n",
        "nth term = 8 * (2**(n-1))\n",
        "  where n is the number of sequences\n",
        "'''\n",
        "sum2 = 0\n",
        "sequence = 6\n",
        "\n",
        "for n in range(1, (sequence + 1)):\n",
        "  sum2 = sum2 + 8 * (2**(n-1))\n",
        "\n",
        "print(f\"The sum of the first {sequence} elements of the sequence is: {float(sum2)}\")"
      ],
      "metadata": {
        "colab": {
          "base_uri": "https://localhost:8080/"
        },
        "id": "i7an-6WdP1nD",
        "outputId": "ee9146e2-b1b9-4804-f99c-87795dffc162"
      },
      "execution_count": 52,
      "outputs": [
        {
          "output_type": "stream",
          "name": "stdout",
          "text": [
            "The sum of the first 6 elements of the sequence is: 504.0\n"
          ]
        }
      ]
    },
    {
      "cell_type": "code",
      "source": [
        "## Question 16\n",
        "\n",
        "'''\n",
        "Vieta's Formula\n",
        "\n",
        "ax^2 + bx + c = 0\n",
        "\n",
        "  Theorem 1\n",
        "  *********\n",
        "\n",
        "    Let r1 and r2 be the roots of the quadratic equation ax2 + bx + c = 0. \n",
        "    Then the two identities:\n",
        "\n",
        "      r1 + r2 = −b/a and  r1 * r2 = c/a\n",
        "\n",
        "    both hold\n",
        "\n",
        "'''\n",
        "\n",
        "a = 1\n",
        "b = 5\n",
        "c = 4\n",
        "\n",
        "r1_add_r2 = (-1) * (b/a)\n",
        "r1_multiply_r2 = (c/a)\n",
        "\n",
        "print(f'x1 + x2 = {r1_add_r2}')\n",
        "print(f'x1x2 = {r1_multiply_r2}')\n"
      ],
      "metadata": {
        "colab": {
          "base_uri": "https://localhost:8080/"
        },
        "id": "aq_HsZMHR4g4",
        "outputId": "e1669401-d34c-42af-9edc-f39a93694915"
      },
      "execution_count": 53,
      "outputs": [
        {
          "output_type": "stream",
          "name": "stdout",
          "text": [
            "x1 + x2 = -5.0\n",
            "x1x2 = 4.0\n"
          ]
        }
      ]
    },
    {
      "cell_type": "code",
      "source": [
        "## Question 17\n",
        "\n",
        "'''\n",
        "Midpoint Formula:\n",
        "****************\n",
        "\n",
        "  Midpoint = (mx, my)\n",
        "  Midpoint = ( (x1 + x2)/2 , (y1 + y2)/2 )\n",
        "\n",
        "'''\n",
        "# A = (2,4)   B = (-4,6)\n",
        "\n",
        "x1 = 2\n",
        "y1 = 4\n",
        "\n",
        "x2 = -4\n",
        "y2 = 6\n",
        "\n",
        "mx = (x1 + x2)/2\n",
        "my = (y1 + y2)/2\n",
        "\n",
        "print(f\"The middle point: ({mx}, {my})\")\n"
      ],
      "metadata": {
        "colab": {
          "base_uri": "https://localhost:8080/"
        },
        "id": "Zcs0XgUbV6Ra",
        "outputId": "9bc3fb71-b531-47a2-cc89-70f26eed80a7"
      },
      "execution_count": 55,
      "outputs": [
        {
          "output_type": "stream",
          "name": "stdout",
          "text": [
            "The middle point: (-1.0, 5.0)\n"
          ]
        }
      ]
    },
    {
      "cell_type": "code",
      "source": [
        "# import the math module \n",
        "import math\n",
        "\n",
        "## Question 18\n",
        "\n",
        "'''\n",
        "Distance Formula:\n",
        "*****************\n",
        "\n",
        "  Distance = math.sqrt( (x2-x1)**2 + (y2-y1)**2 )\n",
        "\n",
        "'''\n",
        "\n",
        "# A = (3,2)   B = (-1, -1)\n",
        "\n",
        "x1 = 3\n",
        "y1 = 2\n",
        "\n",
        "x2 = -1\n",
        "y2 = -1\n",
        "\n",
        "d = math.sqrt( (x2-x1)**2 + (y2-y1)**2 )\n",
        "\n",
        "print(f'The distance between points A and B: {d}')\n"
      ],
      "metadata": {
        "colab": {
          "base_uri": "https://localhost:8080/"
        },
        "id": "Pd32inzmXtbv",
        "outputId": "72f24668-bb51-4ab9-d2d1-d1ef47a283c3"
      },
      "execution_count": 58,
      "outputs": [
        {
          "output_type": "stream",
          "name": "stdout",
          "text": [
            "The distance between points A and B: 5.0\n"
          ]
        }
      ]
    },
    {
      "cell_type": "code",
      "source": [
        "## Question 19\n",
        "\n",
        "import math\n",
        "\n",
        "'''\n",
        "  d = (b**2) - (4*a*c)  \n",
        "\n",
        "  # find two solutions  \n",
        "  sol1 = (-b-math.sqrt(d))/(2*a)  \n",
        "  sol2 = (-b+math.sqrt(d))/(2*a) \n",
        "'''\n",
        "\n",
        "a = 1\n",
        "b = 5\n",
        "c = 4\n",
        "\n",
        "d = (b**2) - (4*a*c)  \n",
        "\n",
        "x1 = (-b-math.sqrt(d))/(2*a)  \n",
        "x2 = (-b+math.sqrt(d))/(2*a)\n",
        "\n",
        "print(f\"x1 = {x1}\")\n",
        "print(f\"x2 = {x2}\")\n"
      ],
      "metadata": {
        "colab": {
          "base_uri": "https://localhost:8080/"
        },
        "id": "GL0b0mWoZJy5",
        "outputId": "9a77f384-44da-4d1c-f7ac-61296ff8c28c"
      },
      "execution_count": 64,
      "outputs": [
        {
          "output_type": "stream",
          "name": "stdout",
          "text": [
            "x1 = -4.0\n",
            "x2 = -1.0\n"
          ]
        }
      ]
    },
    {
      "cell_type": "code",
      "source": [
        "# Question 20\n",
        "\n",
        "'''\n",
        "  Formula for Geometric Mean (grouped data):  Gm = Antilog( (sum of log(x) / n ) )\n",
        "  where: \n",
        "    n is the single elements\n",
        "    x is the number of iterations\n",
        "\n",
        "'''\n",
        "\n",
        "import math\n",
        "\n",
        "sum_of_logs = 0\n",
        "grouped_data = [ 4, 3, 4.5, 5]\n",
        "\n",
        "for i in range(0, len(grouped_data)):\n",
        "  x = grouped_data[i]\n",
        "  sum_of_logs = sum_of_logs + math.log(x)\n",
        "  print(f\"{i} - sum is {sum_of_logs} because log({x}): {math.log(x)}\")\n",
        "\n",
        "print(\"\\n\")\n",
        "geometric_mean = math.exp(sum_of_logs/len(grouped_data))\n",
        "\n",
        "print(f\"Geometric average of the given numbers: {geometric_mean:.2f}\")\n"
      ],
      "metadata": {
        "colab": {
          "base_uri": "https://localhost:8080/"
        },
        "id": "cN9CrKH4bHB_",
        "outputId": "cb78ae92-fae2-497f-ff1b-f44c11b3c5ef"
      },
      "execution_count": 69,
      "outputs": [
        {
          "output_type": "stream",
          "name": "stdout",
          "text": [
            "0 - sum is 1.3862943611198906 because log(4): 1.3862943611198906\n",
            "1 - sum is 2.4849066497880004 because log(3): 1.0986122886681098\n",
            "2 - sum is 3.9889840465642745 because log(4.5): 1.5040773967762742\n",
            "3 - sum is 5.598421958998375 because log(5): 1.6094379124341003\n",
            "\n",
            "\n",
            "Geometric average of the given numbers: 4.05\n"
          ]
        }
      ]
    },
    {
      "cell_type": "code",
      "source": [
        ""
      ],
      "metadata": {
        "id": "1b9LVD1gg9Dg"
      },
      "execution_count": null,
      "outputs": []
    }
  ]
}